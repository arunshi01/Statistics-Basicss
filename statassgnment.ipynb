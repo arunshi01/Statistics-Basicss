{
  "nbformat": 4,
  "nbformat_minor": 0,
  "metadata": {
    "colab": {
      "provenance": []
    },
    "kernelspec": {
      "name": "python3",
      "display_name": "Python 3"
    },
    "language_info": {
      "name": "python"
    }
  },
  "cells": [
    {
      "cell_type": "code",
      "execution_count": null,
      "metadata": {
        "id": "EXnxEJmL8OmY"
      },
      "outputs": [],
      "source": []
    },
    {
      "cell_type": "markdown",
      "source": [
        "**Statistics Basics Assignment**"
      ],
      "metadata": {
        "id": "GqAnR6BpPSt_"
      }
    },
    {
      "cell_type": "markdown",
      "source": [
        "Question 1: What is the difference between descriptive statistics and inferential statistics? Explain with examples.\n",
        "\n",
        "Ans- Descriptive Statistics\n",
        "Purpose:\n",
        " Descriptive statistics summarise and describe the main features of a dataset.\n",
        "Scope:\n",
        " It deals only with the data at hand (sample or population), without making predictions or generalisations.\n",
        "Example:\n",
        " A teacher calculates the average marks of her 30 students in a math test:\n",
        "Mean = 72\n",
        "\n",
        "\n",
        "Median = 75\n",
        "\n",
        "\n",
        "Standard Deviation = 10\n",
        "\n",
        "\n",
        "These values describe the performance of the 30 students but do not predict how other classes might perform.\n",
        "Inferential Statistics\n",
        "Purpose:\n",
        " Inferential statistics make predictions or inferences about a population based on a sample.\n",
        "Scope:\n",
        " It uses the sample data to draw conclusions about a larger population, often using probability theory.\n",
        "Example:\n",
        " A researcher surveys 200 people out of a city of 2 lakh to find out the average time spent on social media.\n",
        "From the sample, the average time is 2.5 hours/day.\n",
        "\n",
        "\n",
        "Using inferential statistics, they estimate that the average time for the whole city is between 2.3 to 2.7 hours/day with 95% confidence.\n"
      ],
      "metadata": {
        "id": "-yd6bNATPV_V"
      }
    },
    {
      "cell_type": "markdown",
      "source": [
        "Question 2: What is sampling in statistics? Explain the differences between random and stratified sampling.\n",
        "\n",
        "\n",
        "Sampling in statistics is the process of selecting a subset (sample) from a larger group (population) to analyse and draw conclusions about the population.\n",
        "Stratified Sampling-\n",
        " The population is divided into distinct subgroups (strata) based on a shared characteristic (e.g., age, gender, income). Then, random samples are taken from each stratum proportionally or equally.\n",
        "\n",
        "Random Sampling (Simple Random Sampling)-\n",
        " Each individual in the population has an equal chance of being selected.\n",
        "\n"
      ],
      "metadata": {
        "id": "zQE2zZWbP1B6"
      }
    },
    {
      "cell_type": "markdown",
      "source": [
        "Question 3: Define mean, median, and mode. Explain why these measures of central tendency are important.\n",
        "\n",
        "\n",
        "i. Mean (Average)\n",
        " The sum of all values divided by the number of values.\n",
        "Formula:\n",
        "Mean=Sum of all values/Number of values\n",
        "ii. Median:\n",
        " The median is the middle value when all the values are arranged in ascending or descending order.\n",
        "If odd number of values → middle one\n",
        "\n",
        "\n",
        "If even number → average of two middle values\n",
        "iii. Mode:\n",
        "The mode is the value that occurs most frequently in a dataset.\n",
        "A dataset can have no mode, one mode, or multiple modes\n",
        "Why These Measures Are Important\n",
        "Mean-\n",
        " Most commonly used\n",
        "- Useful for mathematical calculations\n",
        "- Affected by outliers (extreme values)\n",
        "Median-\n",
        "Represents the 50th percentile\n",
        "- Useful for skewed data (e.g., incomes)\n",
        "- Not affected by outliers\n",
        "Mode-\n",
        "Helps identify the most frequent or popular value\n",
        "- Useful in categorical data (e.g., favorite color, product type)\n"
      ],
      "metadata": {
        "id": "rPVUaHdTP-k6"
      }
    },
    {
      "cell_type": "markdown",
      "source": [
        "4. Explain skewness and kurtosis. What does a positive skew imply about the data?\n",
        "\n",
        "Skewness measures the asymmetry of the distribution of values in a dataset.\n",
        "\n",
        "\n",
        "**Implications of skewness**\n",
        "Positive Skew (Right Skew)\n",
        "a)The right tail is longer.\n",
        "b)Most values are concentrated on the left, but a few larger values pull the mean to the right.\n",
        "c)Mean > Median > Mode\n",
        "\n",
        "Kurtosis measures the \"tailedness\" of the distribution — how heavy or light the tails are compared to a normal distribution.\n"
      ],
      "metadata": {
        "id": "GtPS90vuQG-O"
      }
    },
    {
      "cell_type": "markdown",
      "source": [],
      "metadata": {
        "id": "yJjp7IXzQ4J5"
      }
    },
    {
      "cell_type": "code",
      "source": [
        "#5 Implement a Python program to compute the mean, median, and mode of a given list of numbers.\n",
        "#numbers = [12, 15, 12, 18, 19, 12, 20, 22, 19, 19, 24, 24, 24, 26, 28]\n",
        "\n",
        "import statistics\n",
        "\n",
        "# Given list of numbers\n",
        "numbers = [12, 15, 12, 18, 19, 12, 20, 22, 19, 19, 24, 24, 24, 26, 28]\n",
        "\n",
        "# Calculate mean\n",
        "mean_value = statistics.mean(numbers)\n",
        "\n",
        "# Calculate median\n",
        "median_value = statistics.median(numbers)\n",
        "\n",
        "# Calculate mode\n",
        "mode_value = statistics.mode(numbers)\n",
        "\n",
        "# Display the results\n",
        "print(\"Mean:\", mean_value)\n",
        "print(\"Median:\", median_value)\n",
        "print(\"Mode:\", mode_value)"
      ],
      "metadata": {
        "colab": {
          "base_uri": "https://localhost:8080/"
        },
        "id": "FaXp3Fl7Ri-9",
        "outputId": "dc9511d4-cfec-4491-f393-e9020ba537df"
      },
      "execution_count": 1,
      "outputs": [
        {
          "output_type": "stream",
          "name": "stdout",
          "text": [
            "Mean: 19.6\n",
            "Median: 19\n",
            "Mode: 12\n"
          ]
        }
      ]
    },
    {
      "cell_type": "code",
      "source": [
        "#6 Compute the covariance and correlation coefficient between the following two datasets provided as lists in Python:\n",
        "#list_x = [10, 20, 30, 40, 50]\n",
        "#list_y = [15, 25, 35, 45, 60]\n",
        "\n",
        "\n",
        "import numpy as np\n",
        "\n",
        "# Define the lists\n",
        "list_x = [10, 20, 30, 40, 50]\n",
        "list_y = [15, 25, 35, 45, 60]\n",
        "\n",
        "# Convert to numpy arrays\n",
        "x = np.array(list_x)\n",
        "y = np.array(list_y)\n",
        "\n",
        "# Compute covariance matrix\n",
        "cov_matrix = np.cov(x, y, bias=False)  # bias=False for sample covariance\n",
        "covariance = cov_matrix[0, 1]\n",
        "\n",
        "# Compute correlation coefficient matrix\n",
        "correlation_matrix = np.corrcoef(x, y)\n",
        "correlation = correlation_matrix[0, 1]\n",
        "\n",
        "# Display results\n",
        "print(\"Covariance:\", covariance)\n",
        "print(\"Correlation Coefficient:\", correlation)\n"
      ],
      "metadata": {
        "colab": {
          "base_uri": "https://localhost:8080/"
        },
        "id": "cS11FrdqSCY5",
        "outputId": "971be285-0084-4d7c-e18d-3f132ed838e4"
      },
      "execution_count": 2,
      "outputs": [
        {
          "output_type": "stream",
          "name": "stdout",
          "text": [
            "Covariance: 275.0\n",
            "Correlation Coefficient: 0.995893206467704\n"
          ]
        }
      ]
    },
    {
      "cell_type": "code",
      "source": [
        "#7 Write a Python script to draw a boxplot for the following numeric list and identify its outliers. Explain the result:\n",
        "#data = [12, 14, 14, 15, 18, 19, 19, 21, 22, 22, 23, 23, 24, 26, 29, 35]\n",
        "\n",
        "import matplotlib.pyplot as plt\n",
        "import numpy as np\n",
        "\n",
        "# Given data\n",
        "data = [12, 14, 14, 15, 18, 19, 19, 21, 22, 22, 23, 23, 24, 26, 29, 35]\n",
        "\n",
        "# Create a boxplot\n",
        "plt.boxplot(data, vert=False)\n",
        "plt.title(\"Boxplot of Data\")\n",
        "plt.xlabel(\"Value\")\n",
        "plt.grid(True)\n",
        "plt.show()\n",
        "\n",
        "# Identify outliers using IQR\n",
        "q1 = np.percentile(data, 25)\n",
        "q3 = np.percentile(data, 75)\n",
        "iqr = q3 - q1\n",
        "\n",
        "lower_bound = q1 - 1.5 * iqr\n",
        "upper_bound = q3 + 1.5 * iqr\n",
        "\n",
        "# Find outliers\n",
        "outliers = [x for x in data if x < lower_bound or x > upper_bound]\n",
        "\n",
        "print(\"Q1:\", q1)\n",
        "print(\"Q3:\", q3)\n",
        "print(\"IQR:\", iqr)\n",
        "print(\"Lower Bound:\", lower_bound)\n",
        "print(\"Upper Bound:\", upper_bound)\n",
        "print(\"Outliers:\", outliers)"
      ],
      "metadata": {
        "colab": {
          "base_uri": "https://localhost:8080/",
          "height": 576
        },
        "id": "2IpW6PgqSa-F",
        "outputId": "bc32de5d-b477-48d4-8476-9e41365f4d4d"
      },
      "execution_count": 3,
      "outputs": [
        {
          "output_type": "display_data",
          "data": {
            "text/plain": [
              "<Figure size 640x480 with 1 Axes>"
            ],
            "image/png": "[encoded data removed]"
          },
          "metadata": {}
        },
        {
          "output_type": "stream",
          "name": "stdout",
          "text": [
            "Q1: 17.25\n",
            "Q3: 23.25\n",
            "IQR: 6.0\n",
            "Lower Bound: 8.25\n",
            "Upper Bound: 32.25\n",
            "Outliers: [35]\n"
          ]
        }
      ]
    },
    {
      "cell_type": "markdown",
      "source": [
        "8) You are working as a data analyst in an e-commerce company. The\n",
        "marketing team wants to know if there is a relationship between advertising spend and\n",
        "daily sales.\n",
        "● Explain how you would use covariance and correlation to explore this\n",
        "relationship.\n",
        "● Write Python code to compute the correlation between the two lists:\n",
        "advertising_spend = [200, 250, 300, 400, 500]\n",
        "daily_sales = [2200, 2450, 2750, 3200, 4000]\n",
        "\n",
        "\n",
        "Covariance helps identify the direction of the relationship—whether the two variables increase or decrease together. A positive covariance would indicate that as advertising spend increases, daily sales also tend to increase. However, since covariance is sensitive to the scale of data, it doesn’t show the strength of the relationship. To address this, I would also calculate the correlation coefficient, which standardizes the relationship and ranges from –1 to +1. A value close to +1 would indicate a strong positive linear relationship, suggesting that higher advertising spend is closely associated with higher sales. This analysis would help the marketing team make data-driven decisions about budget allocation."
      ],
      "metadata": {
        "id": "Eb8Sr8pkUHET"
      }
    },
    {
      "cell_type": "code",
      "source": [
        "8)\n",
        "import numpy as np\n",
        "\n",
        "# Given data\n",
        "advertising_spend = [200, 250, 300, 400, 500]\n",
        "daily_sales = [2200, 2450, 2750, 3200, 4000]\n",
        "\n",
        "# Convert to NumPy arrays\n",
        "x = np.array(advertising_spend)\n",
        "y = np.array(daily_sales)\n",
        "\n",
        "# Compute covariance\n",
        "cov_matrix = np.cov(x, y, bias=False)\n",
        "covariance = cov_matrix[0, 1]\n",
        "\n",
        "# Compute correlation coefficient\n",
        "correlation_matrix = np.corrcoef(x, y)\n",
        "correlation = correlation_matrix[0, 1]\n",
        "\n",
        "# Print results\n",
        "print(\"Covariance:\", covariance)\n",
        "print(\"Correlation Coefficient:\", correlation)\n"
      ],
      "metadata": {
        "colab": {
          "base_uri": "https://localhost:8080/"
        },
        "id": "PZ3vwOG5US5m",
        "outputId": "f0ca84a8-8182-440b-8c12-5ead2b408792"
      },
      "execution_count": 4,
      "outputs": [
        {
          "output_type": "stream",
          "name": "stdout",
          "text": [
            "Covariance: 84875.0\n",
            "Correlation Coefficient: 0.9935824101653329\n"
          ]
        }
      ]
    },
    {
      "cell_type": "markdown",
      "source": [
        "9) Your team has collected customer satisfaction survey data on a scale of\n",
        "1-10 and wants to understand its distribution before launching a new product.\n",
        "● Explain which summary statistics and visualizations (e.g. mean, standard\n",
        "deviation, histogram) you’d use.\n",
        "● Write Python code to create a histogram using Matplotlib for the survey data:\n",
        "survey_scores = [7, 8, 5, 9, 6, 7, 8, 9, 10, 4, 7, 6, 9, 8, 7]\n",
        "\n",
        "** Summary Statistics:**\n",
        "These help you numerically describe the dataset:\n",
        "\n",
        "Mean: The average score — gives an idea of overall satisfaction.\n",
        "\n",
        "Median: The middle score — helpful when there are outliers.\n",
        "\n",
        "Mode: The most frequent score — indicates the most common response.\n",
        "\n",
        "Standard Deviation: Measures how spread out the scores are.\n",
        "\n",
        "Minimum & Maximum: Identify the range of scores.\n",
        "\n",
        "Skewness & Kurtosis (optional): To check asymmetry and peakness of distribution.\n",
        "\n",
        "Visulization\n",
        "\n",
        "Histogram: To see the frequency distribution — shows how scores are spread across the 1–10 scale.\n",
        "\n",
        "Boxplot: To identify outliers and see the data's central tendency and spread.\n",
        "\n",
        "Density Plot (optional): For a smoother view of the score distribution"
      ],
      "metadata": {
        "id": "RCZHPFIlUhJn"
      }
    },
    {
      "cell_type": "code",
      "source": [
        "#9)\n",
        "import matplotlib.pyplot as plt\n",
        "\n",
        "# Survey data\n",
        "survey_scores = [7, 8, 5, 9, 6, 7, 8, 9, 10, 4, 7, 6, 9, 8, 7]\n",
        "\n",
        "# Create histogram\n",
        "plt.hist(survey_scores, bins=7, edgecolor='black')\n",
        "plt.title(\"Customer Satisfaction Survey Scores\")\n",
        "plt.xlabel(\"Score (1–10)\")\n",
        "plt.ylabel(\"Frequency\")\n",
        "plt.grid(True)\n",
        "plt.show()"
      ],
      "metadata": {
        "colab": {
          "base_uri": "https://localhost:8080/",
          "height": 472
        },
        "id": "X6VQ6z4TVTy5",
        "outputId": "4b7e6ae6-80e6-408b-d0e7-79322871a1a7"
      },
      "execution_count": 6,
      "outputs": [
        {
          "output_type": "display_data",
          "data": {
            "text/plain": [
              "<Figure size 640x480 with 1 Axes>"
            ],
            "image/png": "[encoded data removed]"
          },
          "metadata": {}
        }
      ]
    }
  ]
}